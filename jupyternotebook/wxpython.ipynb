{
 "cells": [
  {
   "cell_type": "code",
   "execution_count": 11,
   "metadata": {},
   "outputs": [
    {
     "name": "stdout",
     "output_type": "stream",
     "text": [
      "['wxPython 教程 （译）']\n",
      "['wxPython 教程(一): wxPython 简介']\n",
      "['wxPython 教程(二):  开始编写']\n",
      "['wxPython 教程(三): 菜单与工具栏']\n",
      "['wxPython 教程(四): 布局管理']\n",
      "['wxPython 教程 (五): 事件']\n",
      "['wxPython 教程 (六): 对话框']\n",
      "['wxPython 教程 (七):  部件']\n",
      "['wxPython 教程 (八):  wxPython 高级 widgets']\n",
      "['wxPython 教程 (九): wxPython 拖拽']\n",
      "['wxPython 教程  （十）: 国际化']\n",
      "['wxPython 教程 (十一): wxPython 应用骨架']\n",
      "['wxPython 教程 (十二): GDI']\n",
      "['wxPython 教程 (十三): 自定义控件']\n",
      "['wxPython 教程 (十四): 提示和技巧']\n",
      "['wxPython 教程 (十五): wxPython Gripts']\n",
      "['wxPython 教程 (十六): wxPython 俄罗斯方块']\n",
      "all download\n"
     ]
    }
   ],
   "source": [
    "import requests\n",
    "from lxml import html, etree\n",
    "\n",
    "url = 'http://thisis.yorven.site/blog/index.php/2017/09/16/wxpython-jiaocheng-yi/'\n",
    "uresolved_urls = []\n",
    "headers = {\n",
    "    'Accept': 'text/html,application/xhtml+xml,application/xml;q=0.9,image/webp,image/apng,*/*;q=0.8',\n",
    "    'Accept-Encoding': 'gzip, deflate',\n",
    "    'Accept-Language': 'zh-CN,zh;q=0.9',\n",
    "    'Host': 'thisis.yorven.site',\n",
    "    'User-Agent': 'Mozilla/5.0 (Windows NT 6.1; Win64; x64) AppleWebKit/537.36 (KHTML, like Gecko) Chrome/67.0.3396.99 Safari/537.36'\n",
    "}\n",
    "\n",
    "ret = requests.get(url, headers=headers)\n",
    "result = html.fromstring(ret.text)\n",
    "# retsult = etree.HTML(ret.text)\n",
    "links = result.xpath('//*[@id=\"post-18\"]/div/ul/li/a')\n",
    "uresolved_urls = [x.attrib['href'] for x in links]\n",
    "uresolved_urls.insert(0, url)\n",
    "\n",
    "# uresolved_urls\n",
    "for url in uresolved_urls:\n",
    "    ret = requests.get(url, headers=headers)\n",
    "    html = etree.HTML(ret.text)\n",
    "    filename = html.xpath('//header/h1[@class=\"entry-title\"]/text()')\n",
    "    print(filename)\n",
    "    with open('./wxpython/'+filename[0]+'.html', 'w', encoding='utf-8') as f:\n",
    "        f.write(ret.text)\n",
    "        f.close()\n",
    "\n",
    "print('all download')"
   ]
  },
  {
   "cell_type": "code",
   "execution_count": null,
   "metadata": {},
   "outputs": [],
   "source": []
  },
  {
   "cell_type": "code",
   "execution_count": null,
   "metadata": {},
   "outputs": [],
   "source": []
  }
 ],
 "metadata": {
  "kernelspec": {
   "display_name": "Python 3",
   "language": "python",
   "name": "python3"
  },
  "language_info": {
   "codemirror_mode": {
    "name": "ipython",
    "version": 3
   },
   "file_extension": ".py",
   "mimetype": "text/x-python",
   "name": "python",
   "nbconvert_exporter": "python",
   "pygments_lexer": "ipython3",
   "version": "3.6.2"
  }
 },
 "nbformat": 4,
 "nbformat_minor": 2
}
