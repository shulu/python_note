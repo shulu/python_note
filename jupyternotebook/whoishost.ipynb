{
 "cells": [
  {
   "cell_type": "code",
   "execution_count": 7,
   "metadata": {},
   "outputs": [
    {
     "data": {
      "text/plain": [
       "1856160521"
      ]
     },
     "execution_count": 7,
     "metadata": {},
     "output_type": "execute_result"
    }
   ],
   "source": [
    "rand_hash = hash('whoishost')\n",
    "rand_hash"
   ]
  },
  {
   "cell_type": "code",
   "execution_count": 9,
   "metadata": {},
   "outputs": [
    {
     "data": {
      "text/plain": [
       "[1152781897,\n",
       " 258568218,\n",
       " 1403010801,\n",
       " 1406871997,\n",
       " 1255636574,\n",
       " 136787946,\n",
       " 1628120158,\n",
       " 1567599368,\n",
       " 1738058298,\n",
       " 1521365958,\n",
       " 246587480,\n",
       " 240704582,\n",
       " 615808399]"
      ]
     },
     "execution_count": 9,
     "metadata": {},
     "output_type": "execute_result"
    }
   ],
   "source": [
    "peoples = ['舒露', '冷梦龙', '黎添灿', '李咏林', '刘俊斌', '罗亮', '王停停', '曾钊泳', '张鹏飞', '钟日明', '池耀锋', '何永亮', '王军']\n",
    "hashp = [hash(x) for x in peoples]\n",
    "decp = [abs(rand_hash-abs(x)) for x in hashp]\n",
    "decp"
   ]
  },
  {
   "cell_type": "code",
   "execution_count": null,
   "metadata": {},
   "outputs": [],
   "source": [
    "\n",
    "            "
   ]
  }
 ],
 "metadata": {
  "kernelspec": {
   "display_name": "Python 3",
   "language": "python",
   "name": "python3"
  },
  "language_info": {
   "codemirror_mode": {
    "name": "ipython",
    "version": 3
   },
   "file_extension": ".py",
   "mimetype": "text/x-python",
   "name": "python",
   "nbconvert_exporter": "python",
   "pygments_lexer": "ipython3",
   "version": "3.6.2"
  }
 },
 "nbformat": 4,
 "nbformat_minor": 2
}
