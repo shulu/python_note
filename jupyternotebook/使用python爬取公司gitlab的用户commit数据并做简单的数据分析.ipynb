{
 "cells": [
  {
   "cell_type": "code",
   "execution_count": 1,
   "metadata": {},
   "outputs": [],
   "source": [
    "import pandas as pd\n",
    "import numpy as np\n",
    "import calendar as cal\n",
    "import time"
   ]
  },
  {
   "cell_type": "code",
   "execution_count": 2,
   "metadata": {},
   "outputs": [],
   "source": [
    "df = pd.DataFrame(pd.read_excel('../demomd/pipelines_bak.xlsx'))"
   ]
  },
  {
   "cell_type": "code",
   "execution_count": 4,
   "metadata": {},
   "outputs": [
    {
     "data": {
      "text/html": [
       "<div>\n",
       "<style scoped>\n",
       "    .dataframe tbody tr th:only-of-type {\n",
       "        vertical-align: middle;\n",
       "    }\n",
       "\n",
       "    .dataframe tbody tr th {\n",
       "        vertical-align: top;\n",
       "    }\n",
       "\n",
       "    .dataframe thead th {\n",
       "        text-align: right;\n",
       "    }\n",
       "</style>\n",
       "<table border=\"1\" class=\"dataframe\">\n",
       "  <thead>\n",
       "    <tr style=\"text-align: right;\">\n",
       "      <th></th>\n",
       "      <th>pipeline_id</th>\n",
       "      <th>author</th>\n",
       "      <th>author_email</th>\n",
       "      <th>branch</th>\n",
       "      <th>commit_id</th>\n",
       "      <th>commit_message</th>\n",
       "      <th>commit_date</th>\n",
       "      <th>pipeline_status</th>\n",
       "    </tr>\n",
       "  </thead>\n",
       "  <tbody>\n",
       "    <tr>\n",
       "      <th>0</th>\n",
       "      <td>78</td>\n",
       "      <td>banggood</td>\n",
       "      <td>2934024400@qq.com</td>\n",
       "      <td>master</td>\n",
       "      <td>20fbfd388ab774eb5537e2197eea655c60a09f8d</td>\n",
       "      <td>first commit</td>\n",
       "      <td>2017-05-08 11:02:52</td>\n",
       "      <td>passed</td>\n",
       "    </tr>\n",
       "  </tbody>\n",
       "</table>\n",
       "</div>"
      ],
      "text/plain": [
       "   pipeline_id    author       author_email  branch  \\\n",
       "0           78  banggood  2934024400@qq.com  master   \n",
       "\n",
       "                                  commit_id commit_message  \\\n",
       "0  20fbfd388ab774eb5537e2197eea655c60a09f8d   first commit   \n",
       "\n",
       "           commit_date pipeline_status  \n",
       "0  2017-05-08 11:02:52          passed  "
      ]
     },
     "execution_count": 4,
     "metadata": {},
     "output_type": "execute_result"
    }
   ],
   "source": [
    "#查看第一行记录\n",
    "df.head(1)"
   ]
  },
  {
   "cell_type": "code",
   "execution_count": 5,
   "metadata": {},
   "outputs": [
    {
     "name": "stdout",
     "output_type": "stream",
     "text": [
      "now author: 舒露\n"
     ]
    }
   ],
   "source": [
    "# 下面开始数据分析\n",
    "# 以我为例\n",
    "author = '舒露'\n",
    "print(\"now author: %s\" % author)"
   ]
  },
  {
   "cell_type": "code",
   "execution_count": 6,
   "metadata": {},
   "outputs": [],
   "source": [
    "# 筛选当前作者的数据\n",
    "author_pipelines = df.loc[df['author'] == author]"
   ]
  },
  {
   "cell_type": "code",
   "execution_count": 7,
   "metadata": {},
   "outputs": [
    {
     "name": "stdout",
     "output_type": "stream",
     "text": [
      "      pipeline_id author   author_email branch  \\\n",
      "2992         3100     舒露  shulubanggood    pub   \n",
      "\n",
      "                                     commit_id commit_message  \\\n",
      "2992  9630aae85fd3ce4ef2c0124356ce2ce44687b52f           提交测试   \n",
      "\n",
      "              commit_date pipeline_status  \n",
      "2992  2017-07-18 16:54:26          passed  \n"
     ]
    }
   ],
   "source": [
    "# 查看第一条commit数据\n",
    "first = author_pipelines.head(1)\n",
    "print(first)"
   ]
  },
  {
   "cell_type": "code",
   "execution_count": 8,
   "metadata": {},
   "outputs": [
    {
     "name": "stdout",
     "output_type": "stream",
     "text": [
      "       pipeline_id author   author_email   branch  \\\n",
      "70228       138347     舒露  shulubanggood  gbeta23   \n",
      "\n",
      "                                      commit_id commit_message  \\\n",
      "70228  1daf354c12ac78a88500e7b11b1ebb86a56e6239           test   \n",
      "\n",
      "               commit_date pipeline_status  \n",
      "70228  2018-06-29 17:56:47          passed  \n"
     ]
    }
   ],
   "source": [
    "#查看最后一条commit数据\n",
    "last = author_pipelines.tail(1)\n",
    "print(last)"
   ]
  },
  {
   "cell_type": "code",
   "execution_count": 9,
   "metadata": {},
   "outputs": [
    {
     "name": "stdout",
     "output_type": "stream",
     "text": [
      "第一次提交日期为: 2017-07-18 16:54:26 提交的commit_id: 9630aae85fd3ce4ef2c0124356ce2ce44687b52f\n"
     ]
    }
   ],
   "source": [
    "# 提取第一条数据里面的提交日期以及commit_id\n",
    "first_commit_date = str(first['commit_date'].values[0])\n",
    "first_commit_id = first['commit_id'].values[0]\n",
    "print(\"第一次提交日期为: %s 提交的commit_id: %s\" % (first_commit_date, first_commit_id))"
   ]
  },
  {
   "cell_type": "code",
   "execution_count": 10,
   "metadata": {},
   "outputs": [
    {
     "name": "stdout",
     "output_type": "stream",
     "text": [
      "最后一次提交日期为: 2018-06-29 17:56:47 提交的commit_id: 1daf354c12ac78a88500e7b11b1ebb86a56e6239\n"
     ]
    }
   ],
   "source": [
    "# 同样的我们提取最后一条里面的信息\n",
    "last_commit_date = str(last['commit_date'].values[0])\n",
    "last_commit_id = str(last['commit_id'].values[0])\n",
    "print(\"最后一次提交日期为: %s 提交的commit_id: %s\" % (last_commit_date, last_commit_id))"
   ]
  },
  {
   "cell_type": "code",
   "execution_count": 11,
   "metadata": {},
   "outputs": [
    {
     "name": "stdout",
     "output_type": "stream",
     "text": [
      "branch\n",
      "beta7               1\n",
      "countryDomain       1\n",
      "gbeta22           111\n",
      "gbeta23             4\n",
      "gbeta4             68\n",
      "gbeta5            550\n",
      "gbeta6            362\n",
      "gbeta7           2315\n",
      "gbeta8              3\n",
      "pub               235\n",
      "Name: pipeline_id, dtype: int64\n"
     ]
    }
   ],
   "source": [
    "# 获取用户提交过的分支以及提交数\n",
    "used_branch_index = author_pipelines.groupby('branch')['pipeline_id'].count()\n",
    "print(used_branch_index)"
   ]
  },
  {
   "cell_type": "code",
   "execution_count": 12,
   "metadata": {},
   "outputs": [
    {
     "name": "stdout",
     "output_type": "stream",
     "text": [
      "['beta7' 'countryDomain' 'gbeta22' 'gbeta23' 'gbeta4' 'gbeta5' 'gbeta6'\n",
      " 'gbeta7' 'gbeta8' 'pub']\n"
     ]
    }
   ],
   "source": [
    "used_branch_index = author_pipelines.groupby('branch')['pipeline_id'].count().index.values\n",
    "print(used_branch_index)"
   ]
  },
  {
   "cell_type": "code",
   "execution_count": 13,
   "metadata": {},
   "outputs": [
    {
     "name": "stdout",
     "output_type": "stream",
     "text": [
      "[   1    1  111    4   68  550  362 2315    3  235]\n"
     ]
    }
   ],
   "source": [
    "used_branch_values = author_pipelines.groupby('branch')['pipeline_id'].count().values\n",
    "print(used_branch_values)"
   ]
  },
  {
   "cell_type": "code",
   "execution_count": 14,
   "metadata": {},
   "outputs": [
    {
     "name": "stdout",
     "output_type": "stream",
     "text": [
      "[['2017-01-01', '2017-01-31 23:59:59'], ['2017-02-01', '2017-02-28 23:59:59'], ['2017-03-01', '2017-03-31 23:59:59'], ['2017-04-01', '2017-04-30 23:59:59'], ['2017-05-01', '2017-05-31 23:59:59'], ['2017-06-01', '2017-06-30 23:59:59'], ['2017-07-01', '2017-07-31 23:59:59'], ['2017-08-01', '2017-08-31 23:59:59'], ['2017-09-01', '2017-09-30 23:59:59'], ['2017-10-01', '2017-10-31 23:59:59'], ['2017-11-01', '2017-11-30 23:59:59'], ['2017-12-01', '2017-12-31 23:59:59']]\n"
     ]
    }
   ],
   "source": [
    "# 现在我们获取年份信息\n",
    "# 设置日期为索引\n",
    "author_pipelines['commit_date'].astype('str') #该更提交日期的数据类型为str\n",
    "author_pipelines = author_pipelines.set_index('commit_date', drop=False)\n",
    "# 先获取一个2017年份的日期列表\n",
    "cals = []\n",
    "year = 2017\n",
    "for m in range(1, 13):\n",
    "    d = cal.monthrange(year, m)\n",
    "    # first_day = str(year)+'-'+str(m)+'-1'\n",
    "    first_day = \"%d-%d-%d\" % (year, m, 1)\n",
    "    timeArray = time.strptime(first_day, \"%Y-%m-%d\")\n",
    "    first_day = time.strftime(\"%Y-%m-%d\", timeArray)\n",
    "    last_day = \"%d-%d-%d 23:59:59\" % (year, m, d[1])\n",
    "    timeArray = time.strptime(last_day, \"%Y-%m-%d %H:%M:%S\")\n",
    "    last_day = time.strftime(\"%Y-%m-%d %H:%M:%S\", timeArray)\n",
    "    # print(\"%d-%d-%d\\t%d-%d-%d\" % (year, m, 1, year, m, d[1]))\n",
    "    cals.append([first_day, last_day])\n",
    "print(cals)"
   ]
  },
  {
   "cell_type": "code",
   "execution_count": 15,
   "metadata": {},
   "outputs": [
    {
     "name": "stdout",
     "output_type": "stream",
     "text": [
      "2017-01-01 到 2017-01-31 23:59:59 期间提交了 0 次\n",
      "2017-02-01 到 2017-02-28 23:59:59 期间提交了 0 次\n",
      "2017-03-01 到 2017-03-31 23:59:59 期间提交了 0 次\n",
      "2017-04-01 到 2017-04-30 23:59:59 期间提交了 0 次\n",
      "2017-05-01 到 2017-05-31 23:59:59 期间提交了 0 次\n",
      "2017-06-01 到 2017-06-30 23:59:59 期间提交了 0 次\n",
      "2017-07-01 到 2017-07-31 23:59:59 期间提交了 48 次\n",
      "2017-08-01 到 2017-08-31 23:59:59 期间提交了 458 次\n",
      "2017-09-01 到 2017-09-30 23:59:59 期间提交了 448 次\n",
      "2017-10-01 到 2017-10-31 23:59:59 期间提交了 151 次\n",
      "2017-11-01 到 2017-11-30 23:59:59 期间提交了 217 次\n",
      "2017-12-01 到 2017-12-31 23:59:59 期间提交了 149 次\n",
      "2017年一同提交了 1471 次\n"
     ]
    }
   ],
   "source": [
    "# 提取2017数据所有数据\n",
    "month_count = []\n",
    "all_counts = 0\n",
    "for months in cals:\n",
    "    month_data = author_pipelines[months[0]:months[1]]\n",
    "    all_counts += month_data.pipeline_id.count()\n",
    "    print('%s 到 %s 期间提交了 %d 次' % (months[0], months[1], month_data.pipeline_id.count()))\n",
    "print('2017年一同提交了 %s 次' % all_counts)"
   ]
  },
  {
   "cell_type": "code",
   "execution_count": 16,
   "metadata": {},
   "outputs": [
    {
     "name": "stdout",
     "output_type": "stream",
     "text": [
      "1471\n"
     ]
    }
   ],
   "source": [
    "#直接统计看数据是否正确\n",
    "year_data = author_pipelines['2017-01-01':'2017-12-31'].pipeline_id.count()\n",
    "# print('2017年一同提交了 %s 次' % year_data.size)\n",
    "print(year_data)"
   ]
  },
  {
   "cell_type": "code",
   "execution_count": 17,
   "metadata": {},
   "outputs": [
    {
     "data": {
      "text/html": [
       "<div>\n",
       "<style scoped>\n",
       "    .dataframe tbody tr th:only-of-type {\n",
       "        vertical-align: middle;\n",
       "    }\n",
       "\n",
       "    .dataframe tbody tr th {\n",
       "        vertical-align: top;\n",
       "    }\n",
       "\n",
       "    .dataframe thead th {\n",
       "        text-align: right;\n",
       "    }\n",
       "</style>\n",
       "<table border=\"1\" class=\"dataframe\">\n",
       "  <thead>\n",
       "    <tr style=\"text-align: right;\">\n",
       "      <th></th>\n",
       "      <th>pipeline_id</th>\n",
       "      <th>author</th>\n",
       "      <th>author_email</th>\n",
       "      <th>branch</th>\n",
       "      <th>commit_id</th>\n",
       "      <th>commit_message</th>\n",
       "      <th>commit_date</th>\n",
       "      <th>pipeline_status</th>\n",
       "      <th>date</th>\n",
       "    </tr>\n",
       "    <tr>\n",
       "      <th>commit_date</th>\n",
       "      <th></th>\n",
       "      <th></th>\n",
       "      <th></th>\n",
       "      <th></th>\n",
       "      <th></th>\n",
       "      <th></th>\n",
       "      <th></th>\n",
       "      <th></th>\n",
       "      <th></th>\n",
       "    </tr>\n",
       "  </thead>\n",
       "  <tbody>\n",
       "    <tr>\n",
       "      <th>2017-07-18 16:54:26</th>\n",
       "      <td>3100</td>\n",
       "      <td>舒露</td>\n",
       "      <td>shulubanggood</td>\n",
       "      <td>pub</td>\n",
       "      <td>9630aae85fd3ce4ef2c0124356ce2ce44687b52f</td>\n",
       "      <td>提交测试</td>\n",
       "      <td>2017-07-18 16:54:26</td>\n",
       "      <td>passed</td>\n",
       "      <td>2017-07</td>\n",
       "    </tr>\n",
       "  </tbody>\n",
       "</table>\n",
       "</div>"
      ],
      "text/plain": [
       "                     pipeline_id author   author_email branch  \\\n",
       "commit_date                                                     \n",
       "2017-07-18 16:54:26         3100     舒露  shulubanggood    pub   \n",
       "\n",
       "                                                    commit_id commit_message  \\\n",
       "commit_date                                                                    \n",
       "2017-07-18 16:54:26  9630aae85fd3ce4ef2c0124356ce2ce44687b52f           提交测试   \n",
       "\n",
       "                             commit_date pipeline_status     date  \n",
       "commit_date                                                        \n",
       "2017-07-18 16:54:26  2017-07-18 16:54:26          passed  2017-07  "
      ]
     },
     "execution_count": 17,
     "metadata": {},
     "output_type": "execute_result"
    }
   ],
   "source": [
    "author_pipelines['date'] = [x[:7] for x in author_pipelines['commit_date']]\n",
    "author_pipelines.head(1)"
   ]
  },
  {
   "cell_type": "code",
   "execution_count": 20,
   "metadata": {},
   "outputs": [
    {
     "data": {
      "text/html": [
       "<div>\n",
       "<style scoped>\n",
       "    .dataframe tbody tr th:only-of-type {\n",
       "        vertical-align: middle;\n",
       "    }\n",
       "\n",
       "    .dataframe tbody tr th {\n",
       "        vertical-align: top;\n",
       "    }\n",
       "\n",
       "    .dataframe thead tr th {\n",
       "        text-align: left;\n",
       "    }\n",
       "\n",
       "    .dataframe thead tr:last-of-type th {\n",
       "        text-align: right;\n",
       "    }\n",
       "</style>\n",
       "<table border=\"1\" class=\"dataframe\">\n",
       "  <thead>\n",
       "    <tr>\n",
       "      <th></th>\n",
       "      <th colspan=\"12\" halign=\"left\">len</th>\n",
       "    </tr>\n",
       "    <tr>\n",
       "      <th>date</th>\n",
       "      <th>2017-07</th>\n",
       "      <th>2017-08</th>\n",
       "      <th>2017-09</th>\n",
       "      <th>2017-10</th>\n",
       "      <th>2017-11</th>\n",
       "      <th>2017-12</th>\n",
       "      <th>2018-01</th>\n",
       "      <th>2018-02</th>\n",
       "      <th>2018-03</th>\n",
       "      <th>2018-04</th>\n",
       "      <th>2018-05</th>\n",
       "      <th>2018-06</th>\n",
       "    </tr>\n",
       "    <tr>\n",
       "      <th>branch</th>\n",
       "      <th></th>\n",
       "      <th></th>\n",
       "      <th></th>\n",
       "      <th></th>\n",
       "      <th></th>\n",
       "      <th></th>\n",
       "      <th></th>\n",
       "      <th></th>\n",
       "      <th></th>\n",
       "      <th></th>\n",
       "      <th></th>\n",
       "      <th></th>\n",
       "    </tr>\n",
       "  </thead>\n",
       "  <tbody>\n",
       "    <tr>\n",
       "      <th>beta7</th>\n",
       "      <td>0</td>\n",
       "      <td>1</td>\n",
       "      <td>0</td>\n",
       "      <td>0</td>\n",
       "      <td>0</td>\n",
       "      <td>0</td>\n",
       "      <td>0</td>\n",
       "      <td>0</td>\n",
       "      <td>0</td>\n",
       "      <td>0</td>\n",
       "      <td>0</td>\n",
       "      <td>0</td>\n",
       "    </tr>\n",
       "    <tr>\n",
       "      <th>countryDomain</th>\n",
       "      <td>0</td>\n",
       "      <td>0</td>\n",
       "      <td>0</td>\n",
       "      <td>0</td>\n",
       "      <td>0</td>\n",
       "      <td>0</td>\n",
       "      <td>0</td>\n",
       "      <td>0</td>\n",
       "      <td>0</td>\n",
       "      <td>0</td>\n",
       "      <td>1</td>\n",
       "      <td>0</td>\n",
       "    </tr>\n",
       "    <tr>\n",
       "      <th>gbeta22</th>\n",
       "      <td>0</td>\n",
       "      <td>0</td>\n",
       "      <td>0</td>\n",
       "      <td>0</td>\n",
       "      <td>0</td>\n",
       "      <td>0</td>\n",
       "      <td>0</td>\n",
       "      <td>0</td>\n",
       "      <td>0</td>\n",
       "      <td>21</td>\n",
       "      <td>90</td>\n",
       "      <td>0</td>\n",
       "    </tr>\n",
       "    <tr>\n",
       "      <th>gbeta23</th>\n",
       "      <td>0</td>\n",
       "      <td>0</td>\n",
       "      <td>0</td>\n",
       "      <td>0</td>\n",
       "      <td>0</td>\n",
       "      <td>0</td>\n",
       "      <td>0</td>\n",
       "      <td>0</td>\n",
       "      <td>0</td>\n",
       "      <td>0</td>\n",
       "      <td>0</td>\n",
       "      <td>4</td>\n",
       "    </tr>\n",
       "    <tr>\n",
       "      <th>gbeta4</th>\n",
       "      <td>0</td>\n",
       "      <td>0</td>\n",
       "      <td>0</td>\n",
       "      <td>0</td>\n",
       "      <td>0</td>\n",
       "      <td>0</td>\n",
       "      <td>0</td>\n",
       "      <td>37</td>\n",
       "      <td>30</td>\n",
       "      <td>0</td>\n",
       "      <td>1</td>\n",
       "      <td>0</td>\n",
       "    </tr>\n",
       "    <tr>\n",
       "      <th>gbeta5</th>\n",
       "      <td>14</td>\n",
       "      <td>73</td>\n",
       "      <td>12</td>\n",
       "      <td>0</td>\n",
       "      <td>115</td>\n",
       "      <td>141</td>\n",
       "      <td>195</td>\n",
       "      <td>0</td>\n",
       "      <td>0</td>\n",
       "      <td>0</td>\n",
       "      <td>0</td>\n",
       "      <td>0</td>\n",
       "    </tr>\n",
       "    <tr>\n",
       "      <th>gbeta6</th>\n",
       "      <td>0</td>\n",
       "      <td>0</td>\n",
       "      <td>0</td>\n",
       "      <td>0</td>\n",
       "      <td>0</td>\n",
       "      <td>0</td>\n",
       "      <td>2</td>\n",
       "      <td>0</td>\n",
       "      <td>0</td>\n",
       "      <td>0</td>\n",
       "      <td>18</td>\n",
       "      <td>342</td>\n",
       "    </tr>\n",
       "    <tr>\n",
       "      <th>gbeta7</th>\n",
       "      <td>33</td>\n",
       "      <td>340</td>\n",
       "      <td>404</td>\n",
       "      <td>140</td>\n",
       "      <td>73</td>\n",
       "      <td>1</td>\n",
       "      <td>234</td>\n",
       "      <td>249</td>\n",
       "      <td>349</td>\n",
       "      <td>298</td>\n",
       "      <td>90</td>\n",
       "      <td>104</td>\n",
       "    </tr>\n",
       "    <tr>\n",
       "      <th>gbeta8</th>\n",
       "      <td>0</td>\n",
       "      <td>0</td>\n",
       "      <td>0</td>\n",
       "      <td>0</td>\n",
       "      <td>0</td>\n",
       "      <td>0</td>\n",
       "      <td>3</td>\n",
       "      <td>0</td>\n",
       "      <td>0</td>\n",
       "      <td>0</td>\n",
       "      <td>0</td>\n",
       "      <td>0</td>\n",
       "    </tr>\n",
       "    <tr>\n",
       "      <th>pub</th>\n",
       "      <td>1</td>\n",
       "      <td>44</td>\n",
       "      <td>32</td>\n",
       "      <td>11</td>\n",
       "      <td>29</td>\n",
       "      <td>7</td>\n",
       "      <td>40</td>\n",
       "      <td>10</td>\n",
       "      <td>29</td>\n",
       "      <td>7</td>\n",
       "      <td>17</td>\n",
       "      <td>8</td>\n",
       "    </tr>\n",
       "  </tbody>\n",
       "</table>\n",
       "</div>"
      ],
      "text/plain": [
       "                  len                                                          \\\n",
       "date          2017-07 2017-08 2017-09 2017-10 2017-11 2017-12 2018-01 2018-02   \n",
       "branch                                                                          \n",
       "beta7               0       1       0       0       0       0       0       0   \n",
       "countryDomain       0       0       0       0       0       0       0       0   \n",
       "gbeta22             0       0       0       0       0       0       0       0   \n",
       "gbeta23             0       0       0       0       0       0       0       0   \n",
       "gbeta4              0       0       0       0       0       0       0      37   \n",
       "gbeta5             14      73      12       0     115     141     195       0   \n",
       "gbeta6              0       0       0       0       0       0       2       0   \n",
       "gbeta7             33     340     404     140      73       1     234     249   \n",
       "gbeta8              0       0       0       0       0       0       3       0   \n",
       "pub                 1      44      32      11      29       7      40      10   \n",
       "\n",
       "                                               \n",
       "date          2018-03 2018-04 2018-05 2018-06  \n",
       "branch                                         \n",
       "beta7               0       0       0       0  \n",
       "countryDomain       0       0       1       0  \n",
       "gbeta22             0      21      90       0  \n",
       "gbeta23             0       0       0       4  \n",
       "gbeta4             30       0       1       0  \n",
       "gbeta5              0       0       0       0  \n",
       "gbeta6              0       0      18     342  \n",
       "gbeta7            349     298      90     104  \n",
       "gbeta8              0       0       0       0  \n",
       "pub                29       7      17       8  "
      ]
     },
     "execution_count": 20,
     "metadata": {},
     "output_type": "execute_result"
    }
   ],
   "source": [
    "#数据透视表\n",
    "pivot_df = author_pipelines[['branch', 'date']]\n",
    "pivot_df.pivot_table(pivot_df, index=[\"branch\"], columns=[\"date\"], aggfunc=[len], fill_value=0)"
   ]
  },
  {
   "cell_type": "code",
   "execution_count": null,
   "metadata": {},
   "outputs": [],
   "source": []
  }
 ],
 "metadata": {
  "kernelspec": {
   "display_name": "Python 3",
   "language": "python",
   "name": "python3"
  },
  "language_info": {
   "codemirror_mode": {
    "name": "ipython",
    "version": 3
   },
   "file_extension": ".py",
   "mimetype": "text/x-python",
   "name": "python",
   "nbconvert_exporter": "python",
   "pygments_lexer": "ipython3",
   "version": "3.6.0"
  }
 },
 "nbformat": 4,
 "nbformat_minor": 2
}
