{
 "cells": [
  {
   "cell_type": "code",
   "execution_count": null,
   "metadata": {},
   "outputs": [],
   "source": [
    "import requests\n",
    "from lxml import etree\n",
    "\n",
    "# https://www.kuaidaili.com/free/inha/1/\n",
    "# //*[@id=\"list\"]/table/tbody/tr[1]/td[1]\n",
    "# //*[@id=\"list\"]/table/tbody/tr[2]/td[1]\n",
    "\n",
    "# 定义一个翻页函数，用来爬取“快代理”这个网站上的免费代理IP\n",
    "def fanye(pages=1):\n",
    "    ips = [] # IP和端口分别保存\n",
    "    ports = []\n",
    "    for i in range(pages):\n",
    "        url = 'https://www.kuaidaili.com/free/inha/{}/'.format(str(i+1))\n",
    "        response = requests.get(url=url)\n",
    "        parsed_text = etree.HTML(response.text)\n",
    "        ip = parsed_text.xpath('//*[@id=\"list\"]/table/tbody/tr/td[1]/text()')\n",
    "        port = parsed_text.xpath('//*[@id=\"list\"]/table/tbody/tr/td[2]/text()')\n",
    "        ips.extend(ip)\n",
    "        ports.extend(port)\n",
    "\n",
    "    return ips, ports\n",
    "\n",
    "\n",
    "ips_test, ports_test = fanye(pages=500) #这里调用了一下前面定义的函数，翻了2页\n",
    "\n",
    "test_url = 'http://military.china.com/zh_cn/' #这只是一个用来测试的网址，可以修改为目标网站\n",
    "\n",
    "proxies_pool = [] #初始化一个代理池列表\n",
    "\n",
    "for ip_test in ips_test: #遍历一下爬取下来的IP列表\n",
    "    port_test = ports_test[ips_test.index(ip_test)] #取出跟IP相对应的端口\n",
    "\n",
    "    proxies = {\n",
    "        'http': 'http://{}:{}'.format(ip_test,port_test),\n",
    "        'https': 'http://{}:{}'.format(ip_test,port_test),\n",
    "    }\n",
    "    try: #异常处理\n",
    "        response1 = requests.get(test_url, proxies=proxies, timeout=3)\n",
    "        if response1.status_code == 200:\n",
    "            proxies_pool.append({ip_test:port_test})\n",
    "            print('代理IP{}已保存！'.format(ip_test))\n",
    "        else:\n",
    "            print('代理IP请求不成功！')\n",
    "    except:\n",
    "        print('代理IP无效！')\n",
    "\n",
    "# 最后可用的IP数据\n",
    "proxies_len = len(proxies_pool)\n",
    "print('可用IP数目为{}，全部已保存！'.format(str(proxies_len)))\n",
    "\n",
    "\n"
   ]
  },
  {
   "cell_type": "code",
   "execution_count": null,
   "metadata": {},
   "outputs": [],
   "source": []
  }
 ],
 "metadata": {
  "kernelspec": {
   "display_name": "Python 3",
   "language": "python",
   "name": "python3"
  },
  "language_info": {
   "codemirror_mode": {
    "name": "ipython",
    "version": 3
   },
   "file_extension": ".py",
   "mimetype": "text/x-python",
   "name": "python",
   "nbconvert_exporter": "python",
   "pygments_lexer": "ipython3",
   "version": "3.6.0"
  }
 },
 "nbformat": 4,
 "nbformat_minor": 2
}
